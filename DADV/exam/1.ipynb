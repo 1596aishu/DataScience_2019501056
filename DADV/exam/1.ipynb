{
 "cells": [
  {
   "cell_type": "markdown",
   "metadata": {},
   "source": [
    "##1. By using scraping tools download the last 1000 trading days historical data (daily, weekly and monthly) for all S&P500 companies in to your system. Use parallelization to make download faster. (Note: Saturdays and Sundays and some festival days etc. are not trading days. The NYSE and NASDAQ average about 253 trading days a year)"
   ]
  },
  {
   "cell_type": "code",
   "execution_count": 2,
   "metadata": {},
   "outputs": [],
   "source": [
    "import pandas as pd"
   ]
  },
  {
   "cell_type": "code",
   "execution_count": 3,
   "metadata": {},
   "outputs": [],
   "source": [
    "data = pd.read_html('https://en.wikipedia.org/wiki/List_of_S%26P_500_companies')"
   ]
  },
  {
   "cell_type": "code",
   "execution_count": 4,
   "metadata": {},
   "outputs": [
    {
     "data": {
      "text/html": [
       "<div>\n",
       "<style scoped>\n",
       "    .dataframe tbody tr th:only-of-type {\n",
       "        vertical-align: middle;\n",
       "    }\n",
       "\n",
       "    .dataframe tbody tr th {\n",
       "        vertical-align: top;\n",
       "    }\n",
       "\n",
       "    .dataframe thead th {\n",
       "        text-align: right;\n",
       "    }\n",
       "</style>\n",
       "<table border=\"1\" class=\"dataframe\">\n",
       "  <thead>\n",
       "    <tr style=\"text-align: right;\">\n",
       "      <th></th>\n",
       "      <th>Symbol</th>\n",
       "      <th>Security</th>\n",
       "      <th>SEC filings</th>\n",
       "      <th>GICS Sector</th>\n",
       "      <th>GICS Sub-Industry</th>\n",
       "      <th>Headquarters Location</th>\n",
       "      <th>Date first added</th>\n",
       "      <th>CIK</th>\n",
       "      <th>Founded</th>\n",
       "    </tr>\n",
       "  </thead>\n",
       "  <tbody>\n",
       "    <tr>\n",
       "      <th>0</th>\n",
       "      <td>MMM</td>\n",
       "      <td>3M Company</td>\n",
       "      <td>reports</td>\n",
       "      <td>Industrials</td>\n",
       "      <td>Industrial Conglomerates</td>\n",
       "      <td>St. Paul, Minnesota</td>\n",
       "      <td>1976-08-09</td>\n",
       "      <td>66740</td>\n",
       "      <td>1902</td>\n",
       "    </tr>\n",
       "    <tr>\n",
       "      <th>1</th>\n",
       "      <td>ABT</td>\n",
       "      <td>Abbott Laboratories</td>\n",
       "      <td>reports</td>\n",
       "      <td>Health Care</td>\n",
       "      <td>Health Care Equipment</td>\n",
       "      <td>North Chicago, Illinois</td>\n",
       "      <td>1964-03-31</td>\n",
       "      <td>1800</td>\n",
       "      <td>1888</td>\n",
       "    </tr>\n",
       "    <tr>\n",
       "      <th>2</th>\n",
       "      <td>ABBV</td>\n",
       "      <td>AbbVie Inc.</td>\n",
       "      <td>reports</td>\n",
       "      <td>Health Care</td>\n",
       "      <td>Pharmaceuticals</td>\n",
       "      <td>North Chicago, Illinois</td>\n",
       "      <td>2012-12-31</td>\n",
       "      <td>1551152</td>\n",
       "      <td>2013 (1888)</td>\n",
       "    </tr>\n",
       "    <tr>\n",
       "      <th>3</th>\n",
       "      <td>ABMD</td>\n",
       "      <td>ABIOMED Inc</td>\n",
       "      <td>reports</td>\n",
       "      <td>Health Care</td>\n",
       "      <td>Health Care Equipment</td>\n",
       "      <td>Danvers, Massachusetts</td>\n",
       "      <td>2018-05-31</td>\n",
       "      <td>815094</td>\n",
       "      <td>1981</td>\n",
       "    </tr>\n",
       "    <tr>\n",
       "      <th>4</th>\n",
       "      <td>ACN</td>\n",
       "      <td>Accenture plc</td>\n",
       "      <td>reports</td>\n",
       "      <td>Information Technology</td>\n",
       "      <td>IT Consulting &amp; Other Services</td>\n",
       "      <td>Dublin, Ireland</td>\n",
       "      <td>2011-07-06</td>\n",
       "      <td>1467373</td>\n",
       "      <td>1989</td>\n",
       "    </tr>\n",
       "  </tbody>\n",
       "</table>\n",
       "</div>"
      ],
      "text/plain": [
       "  Symbol             Security SEC filings             GICS Sector  \\\n",
       "0    MMM           3M Company     reports             Industrials   \n",
       "1    ABT  Abbott Laboratories     reports             Health Care   \n",
       "2   ABBV          AbbVie Inc.     reports             Health Care   \n",
       "3   ABMD          ABIOMED Inc     reports             Health Care   \n",
       "4    ACN        Accenture plc     reports  Information Technology   \n",
       "\n",
       "                GICS Sub-Industry    Headquarters Location Date first added  \\\n",
       "0        Industrial Conglomerates      St. Paul, Minnesota       1976-08-09   \n",
       "1           Health Care Equipment  North Chicago, Illinois       1964-03-31   \n",
       "2                 Pharmaceuticals  North Chicago, Illinois       2012-12-31   \n",
       "3           Health Care Equipment   Danvers, Massachusetts       2018-05-31   \n",
       "4  IT Consulting & Other Services          Dublin, Ireland       2011-07-06   \n",
       "\n",
       "       CIK      Founded  \n",
       "0    66740         1902  \n",
       "1     1800         1888  \n",
       "2  1551152  2013 (1888)  \n",
       "3   815094         1981  \n",
       "4  1467373         1989  "
      ]
     },
     "execution_count": 4,
     "metadata": {},
     "output_type": "execute_result"
    }
   ],
   "source": [
    "table = data[0]\n",
    "table.head()"
   ]
  },
  {
   "cell_type": "code",
   "execution_count": 5,
   "metadata": {},
   "outputs": [],
   "source": [
    "from selenium import webdriver\n",
    "import time\n",
    "from selenium.webdriver.common.keys import Keys\n",
    "from selenium.webdriver.support.ui import Select\n",
    "import datetime"
   ]
  },
  {
   "cell_type": "code",
   "execution_count": 11,
   "metadata": {},
   "outputs": [
    {
     "name": "stdout",
     "output_type": "stream",
     "text": [
      "1494441000\n",
      "1580841000\n"
     ]
    }
   ],
   "source": [
    "chromeOptions = webdriver.ChromeOptions()\n",
    "preferences = {\"download.default_directory\" : \"C:\\\\Users\\\\aishwarya\\\\Desktop\\\\Data Mining\\\\DADV\\\\exam\\\\Day\"}\n",
    "chromeOptions.add_experimental_option(\"prefs\", preferences)\n",
    "chromedriver = \"C:\\\\Users\\\\aishwarya\\\\Desktop\\\\Data Mining\\\\DADV\\\\exam\\\\chromedriver.exe\"\n",
    "browser = webdriver.Chrome(executable_path=chromedriver, options=chromeOptions)\n",
    "browser.maximize_window()\n",
    "\n",
    "url = \"https://en.wikipedia.org/wiki/List_of_S%26P_500_companies\"\n",
    "browser.get(url)\n",
    "time.sleep(2)\n",
    "\n",
    "Companies_list = []\n",
    "for i in range(1, 6):\n",
    "\tp = browser.find_element_by_xpath('//*[@id=\"constituents\"]/tbody/tr['+str(i)+']/td[1]/a')\n",
    "\tCompanies_list.append(p.text)\n",
    "# print(Companies_list)\n",
    "\n",
    "time.sleep(4)\n",
    "\n",
    "#Time Conversion\n",
    "Start_date = datetime.datetime(2017, 5, 11)\n",
    "End_date = datetime.datetime(2020, 2, 5)\n",
    "from_date = int(time.mktime(Start_date.timetuple()))\n",
    "to_date = int(time.mktime(End_date.timetuple()))\n",
    "print(from_date)\n",
    "print(to_date)\n",
    "\n",
    "for each in Companies_list:\n",
    "    browser.get(\"https://finance.yahoo.com/quote/\"+each+\"/history?period1=\"+str(from_date)+\"&period2=\"+str(to_date)+\"&interval=1d&filter=history&frequency=1d\")\n",
    "    browser.find_element_by_xpath('//*[@id=\"Col1-1-HistoricalDataTable-Proxy\"]/section/div[1]/div[2]/span[2]/a/span').click()\n",
    "    time.sleep(3)\n",
    "\n",
    "chromeOptions = webdriver.ChromeOptions()\n",
    "preferences2 = {\"download.default_directory\" : \"C:\\\\Users\\\\aishwarya\\\\Desktop\\\\Data Mining\\\\DADV\\\\exam\\\\Week\"}\n",
    "chromeOptions.add_experimental_option(\"prefs\", preferences2)\n",
    "chromedriver2 = \"C:\\\\Users\\\\aishwarya\\\\Desktop\\\\Data Mining\\\\DADV\\\\exam\\\\chromedriver.exe\"\n",
    "browser = webdriver.Chrome(executable_path=chromedriver2, options = chromeOptions)\n",
    "\n",
    "for each in Companies_list:\n",
    "    browser.get(\"https://finance.yahoo.com/quote/\"+each+\"/history?period1=\"+str(from_date)+\"&period2=\"+str(to_date)+\"&interval=1d&filter=history&frequency=1wk\")\n",
    "    browser.find_element_by_xpath('//*[@id=\"Col1-1-HistoricalDataTable-Proxy\"]/section/div[1]/div[2]/span[2]/a/span').click()\n",
    "    time.sleep(3)\n",
    "    \n",
    "chromeOptions = webdriver.ChromeOptions()\n",
    "preferences3 = {\"download.default_directory\" : \"C:\\\\Users\\\\aishwarya\\\\Desktop\\\\Data Mining\\\\DADV\\\\exam\\\\Month\"}\n",
    "chromeOptions.add_experimental_option(\"prefs\", preferences3)\n",
    "chromedriver3 = \"C:\\\\Users\\\\aishwarya\\\\Desktop\\\\Data Mining\\\\DADV\\\\exam\\\\chromedriver.exe\"\n",
    "browser = webdriver.Chrome(executable_path=chromedriver3, options = chromeOptions)\n",
    "\n",
    "for each in Companies_list:\n",
    "    browser.get(\"https://finance.yahoo.com/quote/\"+each+\"/history?period1=\"+str(from_date)+\"&period2=\"+str(to_date)+\"&interval=1d&filter=history&frequency=1mo\")\n",
    "    browser.find_element_by_xpath('//*[@id=\"Col1-1-HistoricalDataTable-Proxy\"]/section/div[1]/div[2]/span[2]/a/span').click()\n",
    "    time.sleep(3)\n",
    " "
   ]
  },
  {
   "cell_type": "code",
   "execution_count": null,
   "metadata": {},
   "outputs": [],
   "source": []
  }
 ],
 "metadata": {
  "kernelspec": {
   "display_name": "Python 3",
   "language": "python",
   "name": "python3"
  },
  "language_info": {
   "codemirror_mode": {
    "name": "ipython",
    "version": 3
   },
   "file_extension": ".py",
   "mimetype": "text/x-python",
   "name": "python",
   "nbconvert_exporter": "python",
   "pygments_lexer": "ipython3",
   "version": "3.8.3"
  }
 },
 "nbformat": 4,
 "nbformat_minor": 4
}
