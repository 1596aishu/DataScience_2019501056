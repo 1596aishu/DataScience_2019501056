{
 "cells": [
  {
   "cell_type": "code",
   "execution_count": 1,
   "metadata": {},
   "outputs": [],
   "source": [
    "import glob\n",
    "import csv\n",
    "import os\n",
    "import pandas as pd"
   ]
  },
  {
   "cell_type": "code",
   "execution_count": 2,
   "metadata": {},
   "outputs": [
    {
     "data": {
      "text/plain": [
       "5"
      ]
     },
     "execution_count": 2,
     "metadata": {},
     "output_type": "execute_result"
    }
   ],
   "source": [
    "dic = {}\n",
    "for files in glob.glob('C:\\\\Users\\\\aishwarya\\\\Desktop\\\\Data Mining\\\\DADV\\\\exam\\\\Month\\\\*.csv'):\n",
    "    f=open(files, 'r')\n",
    "    name = os.path.basename(f.name).replace(\".csv\",\"\")\n",
    "    data = pd.read_csv(f)\n",
    "    close = data[\"gainORloss\"]\n",
    "    val = close[len(close) - 1] - close[1]\n",
    "    dic[name] = val\n",
    "    f.close()\n",
    "len(dic)"
   ]
  },
  {
   "cell_type": "code",
   "execution_count": 3,
   "metadata": {},
   "outputs": [],
   "source": [
    "sortdic = {k: v for k, v in sorted(dic.items(), key=lambda item: item[1], reverse = True)}"
   ]
  },
  {
   "cell_type": "code",
   "execution_count": 4,
   "metadata": {},
   "outputs": [
    {
     "data": {
      "text/plain": [
       "{'ABMD': 0.2721295175152212,\n",
       " 'ACN': 0.17623166798254042,\n",
       " 'ABT': 0.14283762452098525,\n",
       " 'MMM': 0.028223918752769528,\n",
       " 'ABBV': -0.09191006959695613}"
      ]
     },
     "execution_count": 4,
     "metadata": {},
     "output_type": "execute_result"
    }
   ],
   "source": [
    "k = 1\n",
    "topdict = {}\n",
    "for each in sortdic.keys():\n",
    "    topdict[each] = sortdic.get(each)\n",
    "    k = k+1\n",
    "    if(k == 25):\n",
    "        break\n",
    "topdict"
   ]
  },
  {
   "cell_type": "code",
   "execution_count": 5,
   "metadata": {},
   "outputs": [],
   "source": [
    "sortdicrev = {k: v for k, v in sorted(dic.items(), key=lambda item: item[1])}"
   ]
  },
  {
   "cell_type": "code",
   "execution_count": 6,
   "metadata": {},
   "outputs": [
    {
     "data": {
      "text/plain": [
       "{'ABBV': -0.09191006959695613,\n",
       " 'MMM': 0.028223918752769528,\n",
       " 'ABT': 0.14283762452098525,\n",
       " 'ACN': 0.17623166798254042,\n",
       " 'ABMD': 0.2721295175152212}"
      ]
     },
     "execution_count": 6,
     "metadata": {},
     "output_type": "execute_result"
    }
   ],
   "source": [
    "k = 1\n",
    "bottomdict = {}\n",
    "for each in sortdicrev.keys():\n",
    "    bottomdict[each] = sortdicrev.get(each)\n",
    "    k = k+1\n",
    "    if(k == 25):\n",
    "        break\n",
    "bottomdict"
   ]
  },
  {
   "cell_type": "code",
   "execution_count": 8,
   "metadata": {},
   "outputs": [
    {
     "data": {
      "text/plain": [
       "25"
      ]
     },
     "execution_count": 8,
     "metadata": {},
     "output_type": "execute_result"
    }
   ],
   "source": [
    "import numpy as np\n",
    "import math\n",
    "from scipy import interpolate\n",
    "corrlis = []\n",
    "for each1 in topdict.keys():\n",
    "    for each2 in topdict.keys():\n",
    "        corr_value = np.corrcoef(topdict.get(each1), topdict.get(each2))[0][1]\n",
    "        corrlis.append(corr_value)\n",
    "        \n",
    "len(corrlis)"
   ]
  }
 ],
 "metadata": {
  "kernelspec": {
   "display_name": "Python 3",
   "language": "python",
   "name": "python3"
  },
  "language_info": {
   "codemirror_mode": {
    "name": "ipython",
    "version": 3
   },
   "file_extension": ".py",
   "mimetype": "text/x-python",
   "name": "python",
   "nbconvert_exporter": "python",
   "pygments_lexer": "ipython3",
   "version": "3.8.3"
  }
 },
 "nbformat": 4,
 "nbformat_minor": 4
}
